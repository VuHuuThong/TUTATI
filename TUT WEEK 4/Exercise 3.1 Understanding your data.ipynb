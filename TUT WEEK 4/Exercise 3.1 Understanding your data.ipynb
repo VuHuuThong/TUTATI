{
 "cells": [
  {
   "cell_type": "markdown",
   "metadata": {
    "id": "ApEGsGnec6BZ"
   },
   "source": [
    "## Exercise 3.1 Understanding your data\n",
    "You will soon start building models in Keras to predict wages based on various professional and demographic factors.\n",
    "\n",
    "Before you start building a model, it's good to understand your data by performing some exploratory analysis.\n",
    "\n",
    "In this exercise, you will work with a .csv file that contains some data about workers in a company. You can download this file from the following link:\n",
    "\n",
    "[hourly_wages.csv](https://drive.google.com/file/d/1elGBb48CX728knwJzU3ImHNvtuRoG7vu/view?usp=drive_link)\n",
    "\n",
    "The data is pre-loaded into a pandas DataFrame called `df`. You can Use the `head()` and `describe()` methods for a quick overview of the DataFrame.\n",
    "\n",
    "The target variable you'll be predicting is wage_per_hour. Some of the predictor variables are binary indicators, where a value of 1 represents True, and 0 represents False.\n",
    "\n",
    "In this exercise, you will practice performing some exploratory analysis on your data to figure out: Of the 9 predictor variables in the DataFrame, how many are binary indicators?\n"
   ]
  },
  {
   "cell_type": "markdown",
   "metadata": {
    "id": "-AWPd5Wqft_d"
   },
   "source": [
    "## Instructions\n",
    "\n",
    "* The min and max values as shown by `describe()` will be informative here.\n",
    "How many binary indicator predictors are there?\n",
    "  * 0\n",
    "  * 5\n",
    "  * 6"
   ]
  },
  {
   "cell_type": "markdown",
   "metadata": {
    "id": "oKx-pAyrlVGO"
   },
   "source": [
    "## Code"
   ]
  },
  {
   "cell_type": "code",
   "execution_count": 2,
   "metadata": {
    "executionInfo": {
     "elapsed": 1691,
     "status": "ok",
     "timestamp": 1758088456706,
     "user": {
      "displayName": "hoàng nguyễn",
      "userId": "12062038586805712278"
     },
     "user_tz": -420
    },
    "id": "dlu9wWcWcy44"
   },
   "outputs": [],
   "source": [
    "import pandas as pd\n",
    "import requests\n",
    "\n",
    "# URL of the file on Google Drive\n",
    "file_url = \"https://drive.google.com/uc?export=download&id=1elGBb48CX728knwJzU3ImHNvtuRoG7vu\"\n",
    "\n",
    "# Download the file\n",
    "response = requests.get(file_url)\n",
    "with open(\"hourly_wages.csv\", \"wb\") as f:\n",
    "    f.write(response.content)\n",
    "\n",
    "# Load csv file into the dataframe: df\n",
    "df = pd.read_csv(\"hourly_wages.csv\")"
   ]
  },
  {
   "cell_type": "markdown",
   "metadata": {
    "id": "u986qJ_NOK1h"
   },
   "source": [
    "Perfome exploratory analysis using `head()` and `describe()` methods"
   ]
  },
  {
   "cell_type": "code",
   "execution_count": 3,
   "metadata": {
    "colab": {
     "base_uri": "https://localhost:8080/"
    },
    "executionInfo": {
     "elapsed": 88,
     "status": "ok",
     "timestamp": 1758088576007,
     "user": {
      "displayName": "hoàng nguyễn",
      "userId": "12062038586805712278"
     },
     "user_tz": -420
    },
    "id": "rdrPE2NrOjS5",
    "outputId": "00aa56cd-ec40-4cb0-fb71-58b26a647a4c"
   },
   "outputs": [
    {
     "name": "stdout",
     "output_type": "stream",
     "text": [
      "   wage_per_hour  union  education_yrs  experience_yrs  age  female  marr  \\\n",
      "0           5.10      0              8              21   35       1     1   \n",
      "1           4.95      0              9              42   57       1     1   \n",
      "2           6.67      0             12               1   19       0     0   \n",
      "3           4.00      0             12               4   22       0     0   \n",
      "4           7.50      0             12              17   35       0     1   \n",
      "\n",
      "   south  manufacturing  construction  \n",
      "0      0              1             0  \n",
      "1      0              1             0  \n",
      "2      0              1             0  \n",
      "3      0              0             0  \n",
      "4      0              0             0  \n",
      "       wage_per_hour       union  education_yrs  experience_yrs         age  \\\n",
      "count     534.000000  534.000000     534.000000      534.000000  534.000000   \n",
      "mean        9.024064    0.179775      13.018727       17.822097   36.833333   \n",
      "std         5.139097    0.384360       2.615373       12.379710   11.726573   \n",
      "min         1.000000    0.000000       2.000000        0.000000   18.000000   \n",
      "25%         5.250000    0.000000      12.000000        8.000000   28.000000   \n",
      "50%         7.780000    0.000000      12.000000       15.000000   35.000000   \n",
      "75%        11.250000    0.000000      15.000000       26.000000   44.000000   \n",
      "max        44.500000    1.000000      18.000000       55.000000   64.000000   \n",
      "\n",
      "           female        marr       south  manufacturing  construction  \n",
      "count  534.000000  534.000000  534.000000     534.000000    534.000000  \n",
      "mean     0.458801    0.655431    0.292135       0.185393      0.044944  \n",
      "std      0.498767    0.475673    0.455170       0.388981      0.207375  \n",
      "min      0.000000    0.000000    0.000000       0.000000      0.000000  \n",
      "25%      0.000000    0.000000    0.000000       0.000000      0.000000  \n",
      "50%      0.000000    1.000000    0.000000       0.000000      0.000000  \n",
      "75%      1.000000    1.000000    1.000000       0.000000      0.000000  \n",
      "max      1.000000    1.000000    1.000000       1.000000      1.000000  \n"
     ]
    }
   ],
   "source": [
    "print(df.head())\n",
    "print(df.describe())\n"
   ]
  }
 ],
 "metadata": {
  "colab": {
   "provenance": [
    {
     "file_id": "1PBBzb3cxx3xJkqbgkY73aIWvHrLTWWPg",
     "timestamp": 1758088616425
    }
   ]
  },
  "kernelspec": {
   "display_name": "Python 3",
   "name": "python3"
  },
  "language_info": {
   "name": "python"
  }
 },
 "nbformat": 4,
 "nbformat_minor": 0
}
